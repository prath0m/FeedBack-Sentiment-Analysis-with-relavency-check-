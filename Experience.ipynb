{
 "cells": [
  {
   "cell_type": "code",
   "execution_count": 12,
   "metadata": {},
   "outputs": [
    {
     "name": "stdout",
     "output_type": "stream",
     "text": [
      "Feedback: 'The app is user-friendly.' -> Relevant feedback. Sentiment: Neutral\n",
      "Feedback: 'I don't like the taste of this restaurant's food.' -> Irrelevant feedback.\n",
      "Feedback: 'I had issues logging in yesterday.' -> Irrelevant feedback.\n",
      "Feedback: 'The weather is so nice today.' -> Irrelevant feedback.\n",
      "Feedback: 'The new version is buggy and slow.' -> Irrelevant feedback.\n",
      "Feedback: 'it was a great experience to use that app' -> Irrelevant feedback.\n",
      "Feedback: 'Event was excellent.' -> Irrelevant feedback.\n"
     ]
    }
   ],
   "source": [
    "from vaderSentiment.vaderSentiment import SentimentIntensityAnalyzer\n",
    "\n",
    "analyzer = SentimentIntensityAnalyzer()\n",
    "\n",
    "\n",
    "def is_relevant(feedback):\n",
    "\n",
    "    relevant_keywords = ['Event', 'user', 'interface', 'customer', 'support', 'crashing', 'product',\n",
    "        'feedback', 'portal', 'web', 'application', 'mobile', 'quick', 'rapid', 'submission',\n",
    "        'collection', 'administration', 'privilege', 'review', 'verified', 'organization',\n",
    "        'group', 'category', 'date', 'range', 'activity', 'fetch', 'analyze', 'text',\n",
    "        'objectionable', 'irrelevant', 'content', 'extract', 'report', 'file', 'email',\n",
    "        'insight', 'data', 'persistent', 'photos', 'health', 'education', 'livelihood',\n",
    "        'environment', 'mechanism', 'PC', 'UX', 'UI', 'interface', 'efficiency', 'storage',\n",
    "        'relevance', 'event-conducted', 'place', 'accessibility', 'feedback-experience',\n",
    "        'automation', 'admin-users', 'user-friendly', 'intuitive', 'security', 'authentication',\n",
    "        'privacy', 'real-time', 'dashboard', 'metrics', 'visualization', 'export', 'import',\n",
    "        'database', 'cloud', 'integration', 'cross-platform', 'responsive', 'engagement',\n",
    "        'satisfaction', 'survey', 'questionnaire', 'responses', 'moderation', 'filtering',\n",
    "        'scalability', 'performance', 'backup', 'restore', 'analytics', 'trends', 'summary',\n",
    "        'overview', 'notifications', 'alerts', 'customization', 'templates', 'deployment',\n",
    "        'monitoring', 'maintenance'\n",
    "]\n",
    "    \n",
    "    return any(keyword in feedback.lower() for keyword in relevant_keywords)\n",
    "\n",
    "\n",
    "def classify_feedback(feedback):\n",
    "    if is_relevant(feedback):\n",
    "        sentiment_score = analyzer.polarity_scores(feedback)\n",
    "        sentiment = 'Positive' if sentiment_score['compound'] > 0.05 else 'Negative' if sentiment_score['compound'] < -0.05 else 'Neutral'\n",
    "        return f\"Relevant feedback. Sentiment: {sentiment}\"\n",
    "    else:\n",
    "        return \"Irrelevant feedback.\"\n",
    "\n",
    "\n",
    "feedbacks = [\n",
    "    \"The app is user-friendly.\",\n",
    "    \"I don't like the taste of this restaurant's food.\",\n",
    "    \"I had issues logging in yesterday.\",\n",
    "    \"The weather is so nice today.\",\n",
    "    \"The new version is buggy and slow.\",\n",
    "    \"it was a great experience to use that app\",\n",
    "    \"Event was excellent.\"\n",
    "]\n",
    "\n",
    "for feedback in feedbacks:\n",
    "    print(f\"Feedback: '{feedback}' -> {classify_feedback(feedback)}\")"
   ]
  }
 ],
 "metadata": {
  "kernelspec": {
   "display_name": "Python 3",
   "language": "python",
   "name": "python3"
  },
  "language_info": {
   "codemirror_mode": {
    "name": "ipython",
    "version": 3
   },
   "file_extension": ".py",
   "mimetype": "text/x-python",
   "name": "python",
   "nbconvert_exporter": "python",
   "pygments_lexer": "ipython3",
   "version": "3.12.5"
  }
 },
 "nbformat": 4,
 "nbformat_minor": 2
}
